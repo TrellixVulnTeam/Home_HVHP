{
  "nbformat": 4,
  "nbformat_minor": 0,
  "metadata": {
    "colab": {
      "name": "data_exploration.ipynb",
      "provenance": []
    },
    "kernelspec": {
      "name": "python3",
      "display_name": "Python 3"
    },
    "language_info": {
      "name": "python"
    }
  },
  "cells": [
    {
      "cell_type": "code",
      "execution_count": null,
      "metadata": {
        "id": "e1tfk5ys1u9x"
      },
      "outputs": [],
      "source": [
        "import os\n",
        "from google.colab import auth\n",
        "import gspread\n",
        "from google.auth import default\n",
        "import pandas as pd\n",
        "import numpy as np\n",
        "import seaborn as sns\n",
        "import matplotlib.pyplot as plt\n",
        "from pandas.api.types import is_string_dtype, is_numeric_dtype"
      ]
    },
    {
      "cell_type": "markdown",
      "source": [
        "Preprocessing"
      ],
      "metadata": {
        "id": "J4h4PKUcqZgn"
      }
    },
    {
      "cell_type": "code",
      "source": [
        "# authenticate\n",
        "auth.authenticate_user()\n",
        "creds, _ = default()\n",
        "gc = gspread.authorize(creds)\n",
        "\n",
        "# open worksheet\n",
        "worksheet = gc.open('Combined_19-21').sheet1\n",
        "\n",
        "# get_all_values gives a list of rows\n",
        "rows = worksheet.get_all_values()\n",
        "\n",
        "# convert to a DataFrame and render\n",
        "df = pd.DataFrame(rows)\n",
        "df.columns = df.iloc[0]\n",
        "df = df.iloc[1:]\n",
        "df.head()"
      ],
      "metadata": {
        "id": "v6ocnd5T4EgF"
      },
      "execution_count": null,
      "outputs": []
    },
    {
      "cell_type": "code",
      "source": [
        "# get rid of ',' and '$'\n",
        "df['Cost'] = df['Cost'].str.replace(',', '', regex=True)\n",
        "df['Cost'] = df['Cost'].str.replace('$', '', regex=True)"
      ],
      "metadata": {
        "id": "4ikEzRfNnNPY"
      },
      "execution_count": null,
      "outputs": []
    },
    {
      "cell_type": "code",
      "source": [
        "# define data types for columns\n",
        "new_df_schema = {\n",
        "'Location': df['Location'].astype(str),\n",
        "'Date': pd.to_datetime(df['Date']),\n",
        "'Description': df['Description'].astype(str),\n",
        "'Cost': pd.to_numeric(df['Cost'], errors='coerce'),\n",
        "'Category': df['Category'].astype(str),\n",
        "}\n",
        "\n",
        "# update the data types\n",
        "df = pd.DataFrame(new_df_schema)"
      ],
      "metadata": {
        "id": "nQFe7LiUB2-s"
      },
      "execution_count": null,
      "outputs": []
    },
    {
      "cell_type": "code",
      "source": [
        "# change tax to misc\n",
        "df['Category'] = df['Category'].str.replace('tax', 'misc')"
      ],
      "metadata": {
        "id": "zrNAED0Jzzfp"
      },
      "execution_count": null,
      "outputs": []
    },
    {
      "cell_type": "code",
      "source": [
        "# change clothing to clothes\n",
        "df['Category'] = df['Category'].str.replace('clothing', 'clothes')"
      ],
      "metadata": {
        "id": "kSeqpIpG5Gfw"
      },
      "execution_count": null,
      "outputs": []
    },
    {
      "cell_type": "code",
      "source": [
        "# change coupons to grocery\n",
        "df['Category'] = df['Category'].str.replace('coupons', 'grocery')"
      ],
      "metadata": {
        "id": "Hpn1EGB1wqqf"
      },
      "execution_count": null,
      "outputs": []
    },
    {
      "cell_type": "code",
      "source": [
        "# change all descriptions to lowercase\n",
        "df['Description'] = df['Description'].str.lower()"
      ],
      "metadata": {
        "id": "r2fvbkct8rsG"
      },
      "execution_count": null,
      "outputs": []
    },
    {
      "cell_type": "code",
      "source": [
        "df['Location'] = df['Location'].str.replace(\" \", \"\")"
      ],
      "metadata": {
        "id": "-4L8e2-tFvh4"
      },
      "execution_count": null,
      "outputs": []
    },
    {
      "cell_type": "code",
      "source": [
        "df.info()"
      ],
      "metadata": {
        "id": "yVaAHXBcqgcS"
      },
      "execution_count": null,
      "outputs": []
    },
    {
      "cell_type": "code",
      "source": [
        "df.describe(include='all', datetime_is_numeric=True)"
      ],
      "metadata": {
        "id": "c9w18uOFqroj"
      },
      "execution_count": null,
      "outputs": []
    },
    {
      "cell_type": "code",
      "source": [
        "df.isnull().sum()"
      ],
      "metadata": {
        "id": "OPwGE5Jyq2CT"
      },
      "execution_count": null,
      "outputs": []
    },
    {
      "cell_type": "code",
      "source": [
        "# view rows containing NaN\n",
        "df1 = df[df.isna().any(axis=1)]\n",
        "print(df1)"
      ],
      "metadata": {
        "id": "mzSB1yuCrP_o"
      },
      "execution_count": null,
      "outputs": []
    },
    {
      "cell_type": "code",
      "source": [
        "# change Cost NaN to 0\n",
        "df['Cost'] = df['Cost'].fillna(0)"
      ],
      "metadata": {
        "id": "4MXgnISjG0bd"
      },
      "execution_count": null,
      "outputs": []
    },
    {
      "cell_type": "code",
      "source": [
        "df.to_csv('expenses_data.csv', index=False)"
      ],
      "metadata": {
        "id": "F3g4uJGFDUYd"
      },
      "execution_count": null,
      "outputs": []
    },
    {
      "cell_type": "code",
      "source": [
        "# new dataframe without negatives or zeros\n",
        "df_pos = df.copy()"
      ],
      "metadata": {
        "id": "rbhLxl3JMrnI"
      },
      "execution_count": null,
      "outputs": []
    },
    {
      "cell_type": "code",
      "source": [
        "# get names of indexes for which column Cost is <= 0\n",
        "indexNames = df_pos[df_pos['Cost'] <= 0].index\n",
        "# delete these row indexes from dataFrame\n",
        "df_pos.drop(indexNames , inplace=True)"
      ],
      "metadata": {
        "id": "RcC7Sf96NX6I"
      },
      "execution_count": null,
      "outputs": []
    },
    {
      "cell_type": "code",
      "source": [
        "# change subcategories to grocery\n",
        "df_pos['Category'] = df_pos['Category'].replace(dict.fromkeys(['bread','breakfast','canned','condiments','dairy','grains','meat','pasta','produce','snacks'], 'grocery'))"
      ],
      "metadata": {
        "id": "9DFcl9hx1LU-"
      },
      "execution_count": null,
      "outputs": []
    },
    {
      "cell_type": "code",
      "source": [
        "# split Date into Day, Month, Year\n",
        "df_pos['Day'] = df_pos['Date'].dt.day.apply(str)\n",
        "df_pos['Month'] = df_pos['Date'].dt.month_name()\n",
        "df_pos['Year'] = df_pos['Date'].dt.year.apply(str)\n",
        "df_pos = df_pos.drop('Date', axis=1)"
      ],
      "metadata": {
        "id": "gss8UzP7FdTl"
      },
      "execution_count": null,
      "outputs": []
    },
    {
      "cell_type": "code",
      "source": [
        "df_pos.to_csv('pos_expenses_data.csv', index=False)"
      ],
      "metadata": {
        "id": "797TSg5eEapF"
      },
      "execution_count": null,
      "outputs": []
    },
    {
      "cell_type": "markdown",
      "source": [
        "Exploratory Data Analysis"
      ],
      "metadata": {
        "id": "qMKW44uzneaP"
      }
    },
    {
      "cell_type": "code",
      "source": [
        "df_pos.info()"
      ],
      "metadata": {
        "id": "RnJBrxx_qlOe"
      },
      "execution_count": null,
      "outputs": []
    },
    {
      "cell_type": "code",
      "source": [
        "df_pos.describe(include='all')"
      ],
      "metadata": {
        "id": "l64F7UZArsi-"
      },
      "execution_count": null,
      "outputs": []
    },
    {
      "cell_type": "code",
      "source": [
        "# create numeric list, category list and small cat list of categories with <15 unique entries\n",
        "num_list = []\n",
        "cat_list = []\n",
        "small_cat_list = []\n",
        "\n",
        "for column in df_pos:\n",
        "  if is_numeric_dtype(df_pos[column]):\n",
        "    num_list.append(column)\n",
        "  elif is_string_dtype(df_pos[column]):\n",
        "    cat_list.append(column)\n",
        "\n",
        "for column in df_pos:\n",
        "  if len(pd.unique(df_pos[column])) < 15:\n",
        "    small_cat_list.append(column)\n",
        "\n",
        "print(num_list)\n",
        "print(cat_list)\n",
        "print(small_cat_list)"
      ],
      "metadata": {
        "id": "5MBbiYZyAUFo"
      },
      "execution_count": null,
      "outputs": []
    },
    {
      "cell_type": "code",
      "source": [
        "# bar chart for frequency of categorical variables, histogram for continuous\n",
        "for column in df_pos:\n",
        "  plt.figure(column)\n",
        "  plt.title(column)\n",
        "  if is_numeric_dtype(df_pos[column]):\n",
        "    df_pos[column].plot(kind='hist')\n",
        "  else:\n",
        "    df_pos[column].value_counts()[:10].plot(kind='bar')"
      ],
      "metadata": {
        "id": "NZ16vJk3xYmF"
      },
      "execution_count": null,
      "outputs": []
    },
    {
      "cell_type": "code",
      "source": [
        "# bar plot of top 10 by values for each variable by cost \n",
        "for column in df_pos:\n",
        "  if column != 'Cost':\n",
        "    sum_cost =  df_pos.groupby([column]).sum().reset_index()\n",
        "    sum_cost = sum_cost.sort_values(by=['Cost'], ascending=False)\n",
        "    sum_cost[:10].plot(x=column, y='Cost', kind='bar', title='Total Cost by %s' % column)"
      ],
      "metadata": {
        "id": "i6fIrG6YWe88"
      },
      "execution_count": null,
      "outputs": []
    },
    {
      "cell_type": "code",
      "source": [
        "# grouped bar charts of categorical variables\n",
        "for i in range(0, len(cat_list)):\n",
        "  primary_cat = cat_list[i]\n",
        "  for j in range(0, len(small_cat_list)):\n",
        "    secondary_cat = small_cat_list[j]\n",
        "    if secondary_cat != primary_cat:\n",
        "      plt.figure (figsize = (15,15))\n",
        "      chart = sns.countplot(\n",
        "        data = df_pos,\n",
        "        x = primary_cat, \n",
        "        hue = secondary_cat,\n",
        "        palette = 'YlGnBu',\n",
        "        order = df_pos[primary_cat].value_counts().iloc[:10].index #show only TOP10\n",
        "      )"
      ],
      "metadata": {
        "id": "URSmtAb59doJ"
      },
      "execution_count": null,
      "outputs": []
    },
    {
      "cell_type": "code",
      "source": [
        "#for i in range(0, len(cat_list)):\n",
        "#  primary_cat = cat_list[i]\n",
        "#  for j in range(0, len(small_cat_list)):\n",
        "#    secondary_cat = small_cat_list[j]\n",
        "#    if secondary_cat != primary_cat:\n",
        "#      df_group = df_pos.groupby([primary_cat, secondary_cat]).sum().reset_index()\n",
        "#      df_unique = df_group.loc[df_group.groupby([primary_cat, secondary_cat])['Cost'].idxmax()]\n",
        "#      df_sort = df_unique.sort_values(by=['Cost'], ascending=False)\n",
        "#      print(df_sort)"
      ],
      "metadata": {
        "id": "1BuOvdo1Hriu"
      },
      "execution_count": null,
      "outputs": []
    },
    {
      "cell_type": "code",
      "source": [
        "# strip plot\n",
        "for i in range(0, len(cat_list)):\n",
        "  primary_cat = cat_list[i]\n",
        "  for j in range(0, len(small_cat_list)):\n",
        "    secondary_cat = small_cat_list[j]\n",
        "    if secondary_cat != primary_cat:\n",
        "      plt.figure (figsize = (20,10))\n",
        "      df_group = df_pos.groupby([primary_cat, secondary_cat]).sum().reset_index()\n",
        "      df_unique = df_group.loc[df_group.groupby([primary_cat])['Cost'].idxmax()]\n",
        "      df_sort = df_unique.sort_values(by=['Cost'], ascending=False)\n",
        "      chart = sns.stripplot(\n",
        "        data = df_sort,\n",
        "        x = primary_cat,\n",
        "        y = 'Cost',\n",
        "        hue = secondary_cat,\n",
        "        palette = 'Paired',\n",
        "        order = df_sort[primary_cat][:10] #show only TOP10\n",
        "      )"
      ],
      "metadata": {
        "id": "iagzM9hUhA8z"
      },
      "execution_count": null,
      "outputs": []
    },
    {
      "cell_type": "code",
      "source": [
        "# box plot\n",
        "for i in range(0, len(small_cat_list)):\n",
        "  cat = small_cat_list[i]\n",
        "  num = df_pos['Cost']\n",
        "  plt.figure (figsize = (15,15))\n",
        "  sns.boxplot( x = cat, y = num, data = df_pos, palette = \"GnBu\")"
      ],
      "metadata": {
        "id": "tILTFj9sOJIb"
      },
      "execution_count": null,
      "outputs": []
    }
  ]
}