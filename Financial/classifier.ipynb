{
  "nbformat": 4,
  "nbformat_minor": 0,
  "metadata": {
    "colab": {
      "name": "classifier.ipynb",
      "provenance": []
    },
    "kernelspec": {
      "name": "python3",
      "display_name": "Python 3"
    },
    "language_info": {
      "name": "python"
    }
  },
  "cells": [
    {
      "cell_type": "code",
      "execution_count": null,
      "metadata": {
        "id": "e1tfk5ys1u9x"
      },
      "outputs": [],
      "source": [
        "import os\n",
        "from google.colab import auth\n",
        "import gspread\n",
        "from google.auth import default\n",
        "import pandas as pd\n",
        "import numpy as np\n",
        "import tensorflow as tf\n",
        "from tensorflow import keras\n",
        "from keras import layers\n",
        "from keras.layers import TextVectorization\n",
        "from keras.layers import Embedding\n",
        "from sklearn.model_selection import train_test_split"
      ]
    },
    {
      "cell_type": "markdown",
      "source": [
        "Preprocessing"
      ],
      "metadata": {
        "id": "J4h4PKUcqZgn"
      }
    },
    {
      "cell_type": "code",
      "source": [
        "# authenticate\n",
        "auth.authenticate_user()\n",
        "creds, _ = default()\n",
        "gc = gspread.authorize(creds)\n",
        "\n",
        "# open worksheet\n",
        "worksheet = gc.open('Combined_19-21').sheet1\n",
        "\n",
        "# get_all_values gives a list of rows\n",
        "rows = worksheet.get_all_values()\n",
        "\n",
        "# convert to a DataFrame and render\n",
        "df = pd.DataFrame(rows)\n",
        "df.columns = df.iloc[0]\n",
        "df = df.iloc[1:]\n",
        "df.head()"
      ],
      "metadata": {
        "colab": {
          "base_uri": "https://localhost:8080/",
          "height": 206
        },
        "id": "v6ocnd5T4EgF",
        "outputId": "0bd39d54-32f2-4dcf-9437-021f9c73defc"
      },
      "execution_count": null,
      "outputs": [
        {
          "output_type": "execute_result",
          "data": {
            "text/plain": [
              "0     Location        Date                                       Description  \\\n",
              "1  Burger King  2019-05-15                                            Dinner   \n",
              "2       Dennys  2019-05-17  Late night/early morning food for both Sam and I   \n",
              "3       Dennys  2019-05-17                                               Tip   \n",
              "4         Wawa  2019-05-17                                 Moving Truck fuel   \n",
              "5        Exxon  2019-05-17                                 Moving Truck fuel   \n",
              "\n",
              "0    Cost        Category  \n",
              "1   $2.19      restaurant  \n",
              "2  $24.76      restaurant  \n",
              "3   $4.95      restaurant  \n",
              "4  $27.50  transportation  \n",
              "5  $78.25  transportation  "
            ],
            "text/html": [
              "\n",
              "  <div id=\"df-f5760647-4134-4492-8689-83113186a8c6\">\n",
              "    <div class=\"colab-df-container\">\n",
              "      <div>\n",
              "<style scoped>\n",
              "    .dataframe tbody tr th:only-of-type {\n",
              "        vertical-align: middle;\n",
              "    }\n",
              "\n",
              "    .dataframe tbody tr th {\n",
              "        vertical-align: top;\n",
              "    }\n",
              "\n",
              "    .dataframe thead th {\n",
              "        text-align: right;\n",
              "    }\n",
              "</style>\n",
              "<table border=\"1\" class=\"dataframe\">\n",
              "  <thead>\n",
              "    <tr style=\"text-align: right;\">\n",
              "      <th></th>\n",
              "      <th>Location</th>\n",
              "      <th>Date</th>\n",
              "      <th>Description</th>\n",
              "      <th>Cost</th>\n",
              "      <th>Category</th>\n",
              "    </tr>\n",
              "  </thead>\n",
              "  <tbody>\n",
              "    <tr>\n",
              "      <th>1</th>\n",
              "      <td>Burger King</td>\n",
              "      <td>2019-05-15</td>\n",
              "      <td>Dinner</td>\n",
              "      <td>$2.19</td>\n",
              "      <td>restaurant</td>\n",
              "    </tr>\n",
              "    <tr>\n",
              "      <th>2</th>\n",
              "      <td>Dennys</td>\n",
              "      <td>2019-05-17</td>\n",
              "      <td>Late night/early morning food for both Sam and I</td>\n",
              "      <td>$24.76</td>\n",
              "      <td>restaurant</td>\n",
              "    </tr>\n",
              "    <tr>\n",
              "      <th>3</th>\n",
              "      <td>Dennys</td>\n",
              "      <td>2019-05-17</td>\n",
              "      <td>Tip</td>\n",
              "      <td>$4.95</td>\n",
              "      <td>restaurant</td>\n",
              "    </tr>\n",
              "    <tr>\n",
              "      <th>4</th>\n",
              "      <td>Wawa</td>\n",
              "      <td>2019-05-17</td>\n",
              "      <td>Moving Truck fuel</td>\n",
              "      <td>$27.50</td>\n",
              "      <td>transportation</td>\n",
              "    </tr>\n",
              "    <tr>\n",
              "      <th>5</th>\n",
              "      <td>Exxon</td>\n",
              "      <td>2019-05-17</td>\n",
              "      <td>Moving Truck fuel</td>\n",
              "      <td>$78.25</td>\n",
              "      <td>transportation</td>\n",
              "    </tr>\n",
              "  </tbody>\n",
              "</table>\n",
              "</div>\n",
              "      <button class=\"colab-df-convert\" onclick=\"convertToInteractive('df-f5760647-4134-4492-8689-83113186a8c6')\"\n",
              "              title=\"Convert this dataframe to an interactive table.\"\n",
              "              style=\"display:none;\">\n",
              "        \n",
              "  <svg xmlns=\"http://www.w3.org/2000/svg\" height=\"24px\"viewBox=\"0 0 24 24\"\n",
              "       width=\"24px\">\n",
              "    <path d=\"M0 0h24v24H0V0z\" fill=\"none\"/>\n",
              "    <path d=\"M18.56 5.44l.94 2.06.94-2.06 2.06-.94-2.06-.94-.94-2.06-.94 2.06-2.06.94zm-11 1L8.5 8.5l.94-2.06 2.06-.94-2.06-.94L8.5 2.5l-.94 2.06-2.06.94zm10 10l.94 2.06.94-2.06 2.06-.94-2.06-.94-.94-2.06-.94 2.06-2.06.94z\"/><path d=\"M17.41 7.96l-1.37-1.37c-.4-.4-.92-.59-1.43-.59-.52 0-1.04.2-1.43.59L10.3 9.45l-7.72 7.72c-.78.78-.78 2.05 0 2.83L4 21.41c.39.39.9.59 1.41.59.51 0 1.02-.2 1.41-.59l7.78-7.78 2.81-2.81c.8-.78.8-2.07 0-2.86zM5.41 20L4 18.59l7.72-7.72 1.47 1.35L5.41 20z\"/>\n",
              "  </svg>\n",
              "      </button>\n",
              "      \n",
              "  <style>\n",
              "    .colab-df-container {\n",
              "      display:flex;\n",
              "      flex-wrap:wrap;\n",
              "      gap: 12px;\n",
              "    }\n",
              "\n",
              "    .colab-df-convert {\n",
              "      background-color: #E8F0FE;\n",
              "      border: none;\n",
              "      border-radius: 50%;\n",
              "      cursor: pointer;\n",
              "      display: none;\n",
              "      fill: #1967D2;\n",
              "      height: 32px;\n",
              "      padding: 0 0 0 0;\n",
              "      width: 32px;\n",
              "    }\n",
              "\n",
              "    .colab-df-convert:hover {\n",
              "      background-color: #E2EBFA;\n",
              "      box-shadow: 0px 1px 2px rgba(60, 64, 67, 0.3), 0px 1px 3px 1px rgba(60, 64, 67, 0.15);\n",
              "      fill: #174EA6;\n",
              "    }\n",
              "\n",
              "    [theme=dark] .colab-df-convert {\n",
              "      background-color: #3B4455;\n",
              "      fill: #D2E3FC;\n",
              "    }\n",
              "\n",
              "    [theme=dark] .colab-df-convert:hover {\n",
              "      background-color: #434B5C;\n",
              "      box-shadow: 0px 1px 3px 1px rgba(0, 0, 0, 0.15);\n",
              "      filter: drop-shadow(0px 1px 2px rgba(0, 0, 0, 0.3));\n",
              "      fill: #FFFFFF;\n",
              "    }\n",
              "  </style>\n",
              "\n",
              "      <script>\n",
              "        const buttonEl =\n",
              "          document.querySelector('#df-f5760647-4134-4492-8689-83113186a8c6 button.colab-df-convert');\n",
              "        buttonEl.style.display =\n",
              "          google.colab.kernel.accessAllowed ? 'block' : 'none';\n",
              "\n",
              "        async function convertToInteractive(key) {\n",
              "          const element = document.querySelector('#df-f5760647-4134-4492-8689-83113186a8c6');\n",
              "          const dataTable =\n",
              "            await google.colab.kernel.invokeFunction('convertToInteractive',\n",
              "                                                     [key], {});\n",
              "          if (!dataTable) return;\n",
              "\n",
              "          const docLinkHtml = 'Like what you see? Visit the ' +\n",
              "            '<a target=\"_blank\" href=https://colab.research.google.com/notebooks/data_table.ipynb>data table notebook</a>'\n",
              "            + ' to learn more about interactive tables.';\n",
              "          element.innerHTML = '';\n",
              "          dataTable['output_type'] = 'display_data';\n",
              "          await google.colab.output.renderOutput(dataTable, element);\n",
              "          const docLink = document.createElement('div');\n",
              "          docLink.innerHTML = docLinkHtml;\n",
              "          element.appendChild(docLink);\n",
              "        }\n",
              "      </script>\n",
              "    </div>\n",
              "  </div>\n",
              "  "
            ]
          },
          "metadata": {},
          "execution_count": 77
        }
      ]
    },
    {
      "cell_type": "code",
      "source": [
        "# create a new dataframe\n",
        "expenses_df = df.copy()"
      ],
      "metadata": {
        "id": "i2ELQpdKLUif"
      },
      "execution_count": null,
      "outputs": []
    },
    {
      "cell_type": "code",
      "source": [
        "# get rid of ',' and '$'\n",
        "expenses_df['Cost'] = expenses_df['Cost'].str.replace(',', '')\n",
        "expenses_df['Cost'] = expenses_df['Cost'].str.replace('$', '')"
      ],
      "metadata": {
        "colab": {
          "base_uri": "https://localhost:8080/"
        },
        "id": "4ikEzRfNnNPY",
        "outputId": "dbdef91e-b558-4496-ad01-bf008149db7a"
      },
      "execution_count": null,
      "outputs": [
        {
          "output_type": "stream",
          "name": "stderr",
          "text": [
            "/usr/local/lib/python3.7/dist-packages/ipykernel_launcher.py:3: FutureWarning: The default value of regex will change from True to False in a future version. In addition, single character regular expressions will *not* be treated as literal strings when regex=True.\n",
            "  This is separate from the ipykernel package so we can avoid doing imports until\n"
          ]
        }
      ]
    },
    {
      "cell_type": "code",
      "source": [
        "# define data types for columns\n",
        "new_df_schema = {\n",
        "'Location': expenses_df['Location'].astype(str),\n",
        "'Date': pd.to_datetime(expenses_df['Date']),\n",
        "'Description': expenses_df['Description'].astype(str),\n",
        "'Cost': pd.to_numeric(expenses_df['Cost'], errors='coerce'),\n",
        "'Category': expenses_df['Category'].astype(str),\n",
        "}"
      ],
      "metadata": {
        "id": "nQFe7LiUB2-s"
      },
      "execution_count": null,
      "outputs": []
    },
    {
      "cell_type": "code",
      "source": [
        "# update the data types\n",
        "expenses_df = pd.DataFrame(new_df_schema)"
      ],
      "metadata": {
        "id": "31i6KLR9l6MO"
      },
      "execution_count": null,
      "outputs": []
    },
    {
      "cell_type": "code",
      "source": [
        "# change NaN to 0\n",
        "expenses_df['Cost'] = expenses_df['Cost'].fillna(0)"
      ],
      "metadata": {
        "id": "4MXgnISjG0bd"
      },
      "execution_count": null,
      "outputs": []
    },
    {
      "cell_type": "code",
      "source": [
        "# new dataframe without negatives or zeros\n",
        "edit_df = expenses_df.copy()"
      ],
      "metadata": {
        "id": "rbhLxl3JMrnI"
      },
      "execution_count": null,
      "outputs": []
    },
    {
      "cell_type": "code",
      "source": [
        "# Get names of indexes for which column Cost is <= 0\n",
        "indexNames = edit_df[edit_df['Cost'] <= 0].index\n",
        "# Delete these row indexes from dataFrame\n",
        "edit_df.drop(indexNames , inplace=True)"
      ],
      "metadata": {
        "id": "RcC7Sf96NX6I"
      },
      "execution_count": null,
      "outputs": []
    },
    {
      "cell_type": "code",
      "source": [
        "clothing = edit_df[edit_df['Category'].str.contains('clothing')]\n",
        "print(clothing)"
      ],
      "metadata": {
        "colab": {
          "base_uri": "https://localhost:8080/"
        },
        "id": "1e6Ic7F0yXxl",
        "outputId": "d1919ea6-0822-41af-c115-cbb9bb54d79c"
      },
      "execution_count": null,
      "outputs": [
        {
          "output_type": "stream",
          "name": "stdout",
          "text": [
            "Empty DataFrame\n",
            "Columns: [Location, Date, Description, Cost, Category]\n",
            "Index: []\n"
          ]
        }
      ]
    },
    {
      "cell_type": "code",
      "source": [
        "# change tax to misc\n",
        "edit_df['Category'] = edit_df['Category'].str.replace('tax', 'misc')"
      ],
      "metadata": {
        "id": "zrNAED0Jzzfp"
      },
      "execution_count": null,
      "outputs": []
    },
    {
      "cell_type": "code",
      "source": [
        "# change clothing to clothes\n",
        "edit_df['Category'] = edit_df['Category'].str.replace('clothing', 'clothes')"
      ],
      "metadata": {
        "id": "kSeqpIpG5Gfw"
      },
      "execution_count": null,
      "outputs": []
    },
    {
      "cell_type": "code",
      "source": [
        "# change subcategories to grocery\n",
        "edit_df['Category'] = edit_df['Category'].replace(dict.fromkeys(['alcohol','bread','breakfast','canned','condiments','dairy','grains','hygiene','meat','pasta','produce','snacks'], 'grocery'))"
      ],
      "metadata": {
        "id": "9DFcl9hx1LU-"
      },
      "execution_count": null,
      "outputs": []
    },
    {
      "cell_type": "markdown",
      "source": [
        "Preparing Data"
      ],
      "metadata": {
        "id": "eEt7GQfTqlWF"
      }
    },
    {
      "cell_type": "code",
      "source": [
        "features = edit_df.drop('Category', 1)\n",
        "labels = edit_df['Category']"
      ],
      "metadata": {
        "colab": {
          "base_uri": "https://localhost:8080/"
        },
        "id": "NDDtJumDqUjH",
        "outputId": "dcbe5851-80b3-42af-c4b9-5e7f907e5626"
      },
      "execution_count": null,
      "outputs": [
        {
          "output_type": "stream",
          "name": "stderr",
          "text": [
            "/usr/local/lib/python3.7/dist-packages/ipykernel_launcher.py:1: FutureWarning: In a future version of pandas all arguments of DataFrame.drop except for the argument 'labels' will be keyword-only\n",
            "  \"\"\"Entry point for launching an IPython kernel.\n"
          ]
        }
      ]
    },
    {
      "cell_type": "code",
      "source": [
        "class_names = pd.unique(labels)\n",
        "print(\"Classes:\", class_names)\n",
        "print(\"Number of samples:\", len(features))"
      ],
      "metadata": {
        "colab": {
          "base_uri": "https://localhost:8080/"
        },
        "id": "fydecWFBtsIh",
        "outputId": "9b5ab677-59ec-4d4d-cfc9-fc66c024780a"
      },
      "execution_count": null,
      "outputs": [
        {
          "output_type": "stream",
          "name": "stdout",
          "text": [
            "Classes: ['restaurant' 'transportation' 'improvement' 'misc' 'grocery' 'business'\n",
            " 'clothes' 'rent' 'utilities' 'supplies' 'entertainment' 'education'\n",
            " 'health']\n",
            "Number of samples: 2839\n"
          ]
        }
      ]
    },
    {
      "cell_type": "code",
      "source": [
        "descriptions = edit_df['Description']\n",
        "print(descriptions)"
      ],
      "metadata": {
        "colab": {
          "base_uri": "https://localhost:8080/"
        },
        "id": "G9ruh82N6REK",
        "outputId": "fe469bf0-ebed-40d6-dedf-3bf1a5c54b43"
      },
      "execution_count": null,
      "outputs": [
        {
          "output_type": "stream",
          "name": "stdout",
          "text": [
            "1                                                 Dinner\n",
            "2       Late night/early morning food for both Sam and I\n",
            "3                                                    Tip\n",
            "4                                      Moving Truck fuel\n",
            "5                                      Moving Truck fuel\n",
            "                              ...                       \n",
            "2925                                            cheerios\n",
            "2926                                                 tax\n",
            "2927                                                 tax\n",
            "2928                                                 gas\n",
            "2929                                        subscription\n",
            "Name: Description, Length: 2839, dtype: object\n"
          ]
        }
      ]
    },
    {
      "cell_type": "code",
      "source": [
        "labels = pd.get_dummies(labels)"
      ],
      "metadata": {
        "id": "tQL0GxvyHZjQ"
      },
      "execution_count": null,
      "outputs": []
    },
    {
      "cell_type": "code",
      "source": [
        "labels"
      ],
      "metadata": {
        "colab": {
          "base_uri": "https://localhost:8080/",
          "height": 488
        },
        "id": "ys4KkZrRQMPl",
        "outputId": "8e44232e-a16d-41d6-a9cc-a69573a23a4b"
      },
      "execution_count": null,
      "outputs": [
        {
          "output_type": "execute_result",
          "data": {
            "text/plain": [
              "      business  clothes  education  entertainment  grocery  health  \\\n",
              "1            0        0          0              0        0       0   \n",
              "2            0        0          0              0        0       0   \n",
              "3            0        0          0              0        0       0   \n",
              "4            0        0          0              0        0       0   \n",
              "5            0        0          0              0        0       0   \n",
              "...        ...      ...        ...            ...      ...     ...   \n",
              "2925         0        0          0              0        1       0   \n",
              "2926         0        0          0              0        0       0   \n",
              "2927         0        0          0              0        0       0   \n",
              "2928         0        0          0              0        0       0   \n",
              "2929         0        0          0              1        0       0   \n",
              "\n",
              "      improvement  misc  rent  restaurant  supplies  transportation  utilities  \n",
              "1               0     0     0           1         0               0          0  \n",
              "2               0     0     0           1         0               0          0  \n",
              "3               0     0     0           1         0               0          0  \n",
              "4               0     0     0           0         0               1          0  \n",
              "5               0     0     0           0         0               1          0  \n",
              "...           ...   ...   ...         ...       ...             ...        ...  \n",
              "2925            0     0     0           0         0               0          0  \n",
              "2926            0     1     0           0         0               0          0  \n",
              "2927            0     1     0           0         0               0          0  \n",
              "2928            0     0     0           0         0               1          0  \n",
              "2929            0     0     0           0         0               0          0  \n",
              "\n",
              "[2839 rows x 13 columns]"
            ],
            "text/html": [
              "\n",
              "  <div id=\"df-32698f8f-fa3c-4515-97c6-e49d3a95685a\">\n",
              "    <div class=\"colab-df-container\">\n",
              "      <div>\n",
              "<style scoped>\n",
              "    .dataframe tbody tr th:only-of-type {\n",
              "        vertical-align: middle;\n",
              "    }\n",
              "\n",
              "    .dataframe tbody tr th {\n",
              "        vertical-align: top;\n",
              "    }\n",
              "\n",
              "    .dataframe thead th {\n",
              "        text-align: right;\n",
              "    }\n",
              "</style>\n",
              "<table border=\"1\" class=\"dataframe\">\n",
              "  <thead>\n",
              "    <tr style=\"text-align: right;\">\n",
              "      <th></th>\n",
              "      <th>business</th>\n",
              "      <th>clothes</th>\n",
              "      <th>education</th>\n",
              "      <th>entertainment</th>\n",
              "      <th>grocery</th>\n",
              "      <th>health</th>\n",
              "      <th>improvement</th>\n",
              "      <th>misc</th>\n",
              "      <th>rent</th>\n",
              "      <th>restaurant</th>\n",
              "      <th>supplies</th>\n",
              "      <th>transportation</th>\n",
              "      <th>utilities</th>\n",
              "    </tr>\n",
              "  </thead>\n",
              "  <tbody>\n",
              "    <tr>\n",
              "      <th>1</th>\n",
              "      <td>0</td>\n",
              "      <td>0</td>\n",
              "      <td>0</td>\n",
              "      <td>0</td>\n",
              "      <td>0</td>\n",
              "      <td>0</td>\n",
              "      <td>0</td>\n",
              "      <td>0</td>\n",
              "      <td>0</td>\n",
              "      <td>1</td>\n",
              "      <td>0</td>\n",
              "      <td>0</td>\n",
              "      <td>0</td>\n",
              "    </tr>\n",
              "    <tr>\n",
              "      <th>2</th>\n",
              "      <td>0</td>\n",
              "      <td>0</td>\n",
              "      <td>0</td>\n",
              "      <td>0</td>\n",
              "      <td>0</td>\n",
              "      <td>0</td>\n",
              "      <td>0</td>\n",
              "      <td>0</td>\n",
              "      <td>0</td>\n",
              "      <td>1</td>\n",
              "      <td>0</td>\n",
              "      <td>0</td>\n",
              "      <td>0</td>\n",
              "    </tr>\n",
              "    <tr>\n",
              "      <th>3</th>\n",
              "      <td>0</td>\n",
              "      <td>0</td>\n",
              "      <td>0</td>\n",
              "      <td>0</td>\n",
              "      <td>0</td>\n",
              "      <td>0</td>\n",
              "      <td>0</td>\n",
              "      <td>0</td>\n",
              "      <td>0</td>\n",
              "      <td>1</td>\n",
              "      <td>0</td>\n",
              "      <td>0</td>\n",
              "      <td>0</td>\n",
              "    </tr>\n",
              "    <tr>\n",
              "      <th>4</th>\n",
              "      <td>0</td>\n",
              "      <td>0</td>\n",
              "      <td>0</td>\n",
              "      <td>0</td>\n",
              "      <td>0</td>\n",
              "      <td>0</td>\n",
              "      <td>0</td>\n",
              "      <td>0</td>\n",
              "      <td>0</td>\n",
              "      <td>0</td>\n",
              "      <td>0</td>\n",
              "      <td>1</td>\n",
              "      <td>0</td>\n",
              "    </tr>\n",
              "    <tr>\n",
              "      <th>5</th>\n",
              "      <td>0</td>\n",
              "      <td>0</td>\n",
              "      <td>0</td>\n",
              "      <td>0</td>\n",
              "      <td>0</td>\n",
              "      <td>0</td>\n",
              "      <td>0</td>\n",
              "      <td>0</td>\n",
              "      <td>0</td>\n",
              "      <td>0</td>\n",
              "      <td>0</td>\n",
              "      <td>1</td>\n",
              "      <td>0</td>\n",
              "    </tr>\n",
              "    <tr>\n",
              "      <th>...</th>\n",
              "      <td>...</td>\n",
              "      <td>...</td>\n",
              "      <td>...</td>\n",
              "      <td>...</td>\n",
              "      <td>...</td>\n",
              "      <td>...</td>\n",
              "      <td>...</td>\n",
              "      <td>...</td>\n",
              "      <td>...</td>\n",
              "      <td>...</td>\n",
              "      <td>...</td>\n",
              "      <td>...</td>\n",
              "      <td>...</td>\n",
              "    </tr>\n",
              "    <tr>\n",
              "      <th>2925</th>\n",
              "      <td>0</td>\n",
              "      <td>0</td>\n",
              "      <td>0</td>\n",
              "      <td>0</td>\n",
              "      <td>1</td>\n",
              "      <td>0</td>\n",
              "      <td>0</td>\n",
              "      <td>0</td>\n",
              "      <td>0</td>\n",
              "      <td>0</td>\n",
              "      <td>0</td>\n",
              "      <td>0</td>\n",
              "      <td>0</td>\n",
              "    </tr>\n",
              "    <tr>\n",
              "      <th>2926</th>\n",
              "      <td>0</td>\n",
              "      <td>0</td>\n",
              "      <td>0</td>\n",
              "      <td>0</td>\n",
              "      <td>0</td>\n",
              "      <td>0</td>\n",
              "      <td>0</td>\n",
              "      <td>1</td>\n",
              "      <td>0</td>\n",
              "      <td>0</td>\n",
              "      <td>0</td>\n",
              "      <td>0</td>\n",
              "      <td>0</td>\n",
              "    </tr>\n",
              "    <tr>\n",
              "      <th>2927</th>\n",
              "      <td>0</td>\n",
              "      <td>0</td>\n",
              "      <td>0</td>\n",
              "      <td>0</td>\n",
              "      <td>0</td>\n",
              "      <td>0</td>\n",
              "      <td>0</td>\n",
              "      <td>1</td>\n",
              "      <td>0</td>\n",
              "      <td>0</td>\n",
              "      <td>0</td>\n",
              "      <td>0</td>\n",
              "      <td>0</td>\n",
              "    </tr>\n",
              "    <tr>\n",
              "      <th>2928</th>\n",
              "      <td>0</td>\n",
              "      <td>0</td>\n",
              "      <td>0</td>\n",
              "      <td>0</td>\n",
              "      <td>0</td>\n",
              "      <td>0</td>\n",
              "      <td>0</td>\n",
              "      <td>0</td>\n",
              "      <td>0</td>\n",
              "      <td>0</td>\n",
              "      <td>0</td>\n",
              "      <td>1</td>\n",
              "      <td>0</td>\n",
              "    </tr>\n",
              "    <tr>\n",
              "      <th>2929</th>\n",
              "      <td>0</td>\n",
              "      <td>0</td>\n",
              "      <td>0</td>\n",
              "      <td>1</td>\n",
              "      <td>0</td>\n",
              "      <td>0</td>\n",
              "      <td>0</td>\n",
              "      <td>0</td>\n",
              "      <td>0</td>\n",
              "      <td>0</td>\n",
              "      <td>0</td>\n",
              "      <td>0</td>\n",
              "      <td>0</td>\n",
              "    </tr>\n",
              "  </tbody>\n",
              "</table>\n",
              "<p>2839 rows × 13 columns</p>\n",
              "</div>\n",
              "      <button class=\"colab-df-convert\" onclick=\"convertToInteractive('df-32698f8f-fa3c-4515-97c6-e49d3a95685a')\"\n",
              "              title=\"Convert this dataframe to an interactive table.\"\n",
              "              style=\"display:none;\">\n",
              "        \n",
              "  <svg xmlns=\"http://www.w3.org/2000/svg\" height=\"24px\"viewBox=\"0 0 24 24\"\n",
              "       width=\"24px\">\n",
              "    <path d=\"M0 0h24v24H0V0z\" fill=\"none\"/>\n",
              "    <path d=\"M18.56 5.44l.94 2.06.94-2.06 2.06-.94-2.06-.94-.94-2.06-.94 2.06-2.06.94zm-11 1L8.5 8.5l.94-2.06 2.06-.94-2.06-.94L8.5 2.5l-.94 2.06-2.06.94zm10 10l.94 2.06.94-2.06 2.06-.94-2.06-.94-.94-2.06-.94 2.06-2.06.94z\"/><path d=\"M17.41 7.96l-1.37-1.37c-.4-.4-.92-.59-1.43-.59-.52 0-1.04.2-1.43.59L10.3 9.45l-7.72 7.72c-.78.78-.78 2.05 0 2.83L4 21.41c.39.39.9.59 1.41.59.51 0 1.02-.2 1.41-.59l7.78-7.78 2.81-2.81c.8-.78.8-2.07 0-2.86zM5.41 20L4 18.59l7.72-7.72 1.47 1.35L5.41 20z\"/>\n",
              "  </svg>\n",
              "      </button>\n",
              "      \n",
              "  <style>\n",
              "    .colab-df-container {\n",
              "      display:flex;\n",
              "      flex-wrap:wrap;\n",
              "      gap: 12px;\n",
              "    }\n",
              "\n",
              "    .colab-df-convert {\n",
              "      background-color: #E8F0FE;\n",
              "      border: none;\n",
              "      border-radius: 50%;\n",
              "      cursor: pointer;\n",
              "      display: none;\n",
              "      fill: #1967D2;\n",
              "      height: 32px;\n",
              "      padding: 0 0 0 0;\n",
              "      width: 32px;\n",
              "    }\n",
              "\n",
              "    .colab-df-convert:hover {\n",
              "      background-color: #E2EBFA;\n",
              "      box-shadow: 0px 1px 2px rgba(60, 64, 67, 0.3), 0px 1px 3px 1px rgba(60, 64, 67, 0.15);\n",
              "      fill: #174EA6;\n",
              "    }\n",
              "\n",
              "    [theme=dark] .colab-df-convert {\n",
              "      background-color: #3B4455;\n",
              "      fill: #D2E3FC;\n",
              "    }\n",
              "\n",
              "    [theme=dark] .colab-df-convert:hover {\n",
              "      background-color: #434B5C;\n",
              "      box-shadow: 0px 1px 3px 1px rgba(0, 0, 0, 0.15);\n",
              "      filter: drop-shadow(0px 1px 2px rgba(0, 0, 0, 0.3));\n",
              "      fill: #FFFFFF;\n",
              "    }\n",
              "  </style>\n",
              "\n",
              "      <script>\n",
              "        const buttonEl =\n",
              "          document.querySelector('#df-32698f8f-fa3c-4515-97c6-e49d3a95685a button.colab-df-convert');\n",
              "        buttonEl.style.display =\n",
              "          google.colab.kernel.accessAllowed ? 'block' : 'none';\n",
              "\n",
              "        async function convertToInteractive(key) {\n",
              "          const element = document.querySelector('#df-32698f8f-fa3c-4515-97c6-e49d3a95685a');\n",
              "          const dataTable =\n",
              "            await google.colab.kernel.invokeFunction('convertToInteractive',\n",
              "                                                     [key], {});\n",
              "          if (!dataTable) return;\n",
              "\n",
              "          const docLinkHtml = 'Like what you see? Visit the ' +\n",
              "            '<a target=\"_blank\" href=https://colab.research.google.com/notebooks/data_table.ipynb>data table notebook</a>'\n",
              "            + ' to learn more about interactive tables.';\n",
              "          element.innerHTML = '';\n",
              "          dataTable['output_type'] = 'display_data';\n",
              "          await google.colab.output.renderOutput(dataTable, element);\n",
              "          const docLink = document.createElement('div');\n",
              "          docLink.innerHTML = docLinkHtml;\n",
              "          element.appendChild(docLink);\n",
              "        }\n",
              "      </script>\n",
              "    </div>\n",
              "  </div>\n",
              "  "
            ]
          },
          "metadata": {},
          "execution_count": 193
        }
      ]
    },
    {
      "cell_type": "code",
      "source": [
        "train_samples, test_samples, train_labels, test_labels = train_test_split(descriptions, labels, test_size=0.2, random_state = 0)"
      ],
      "metadata": {
        "id": "eybAr_JH6iND"
      },
      "execution_count": null,
      "outputs": []
    },
    {
      "cell_type": "code",
      "source": [
        "test_samples"
      ],
      "metadata": {
        "colab": {
          "base_uri": "https://localhost:8080/"
        },
        "id": "4cS5eAyEIaNR",
        "outputId": "464a8f03-85c6-4c49-9964-20805b05e4d7"
      },
      "execution_count": null,
      "outputs": [
        {
          "output_type": "execute_result",
          "data": {
            "text/plain": [
              "1116                  tax\n",
              "2673                salsa\n",
              "330                   Tip\n",
              "1985    honey wheat bread\n",
              "2357            tortillas\n",
              "              ...        \n",
              "1527            tortillas\n",
              "587                   tip\n",
              "1473       Lance crackers\n",
              "2333    popcorn and drink\n",
              "642     LA transportation\n",
              "Name: Description, Length: 568, dtype: object"
            ]
          },
          "metadata": {},
          "execution_count": 204
        }
      ]
    },
    {
      "cell_type": "markdown",
      "source": [
        "Create Vocabulary Index"
      ],
      "metadata": {
        "id": "keGlpnmC9zLo"
      }
    },
    {
      "cell_type": "code",
      "source": [
        "vectorizer = TextVectorization(max_tokens=20000, output_sequence_length=200)\n",
        "text_ds = tf.data.Dataset.from_tensor_slices(train_samples).batch(128)\n",
        "vectorizer.adapt(text_ds)"
      ],
      "metadata": {
        "id": "whip5oJy8DPx"
      },
      "execution_count": null,
      "outputs": []
    },
    {
      "cell_type": "code",
      "source": [
        "vectorizer.get_vocabulary()[:12]"
      ],
      "metadata": {
        "colab": {
          "base_uri": "https://localhost:8080/"
        },
        "id": "HZPrRj9u8hX9",
        "outputId": "084057fe-2a68-45b4-a7a5-2d5ce38aa836"
      },
      "execution_count": null,
      "outputs": [
        {
          "output_type": "execute_result",
          "data": {
            "text/plain": [
              "['',\n",
              " '[UNK]',\n",
              " 'tax',\n",
              " 'tip',\n",
              " 'cheese',\n",
              " 'cream',\n",
              " 'dinner',\n",
              " 'bagels',\n",
              " 'mix',\n",
              " 'and',\n",
              " 'bread',\n",
              " 'ice']"
            ]
          },
          "metadata": {},
          "execution_count": 174
        }
      ]
    },
    {
      "cell_type": "code",
      "source": [
        "voc = vectorizer.get_vocabulary()\n",
        "word_index = dict(zip(voc, range(len(voc))))"
      ],
      "metadata": {
        "id": "TkZ43YQJ9SBR"
      },
      "execution_count": null,
      "outputs": []
    },
    {
      "cell_type": "markdown",
      "source": [
        "Load pre-trained GloVe"
      ],
      "metadata": {
        "id": "gkMYzNUD-B8I"
      }
    },
    {
      "cell_type": "code",
      "source": [
        "!wget http://nlp.stanford.edu/data/glove.6B.zip\n",
        "!unzip -q glove.6B.zip"
      ],
      "metadata": {
        "colab": {
          "base_uri": "https://localhost:8080/"
        },
        "id": "RRNuuHd99Yfr",
        "outputId": "da68c2f6-c6b6-42d3-aca6-bb3952e6694c"
      },
      "execution_count": null,
      "outputs": [
        {
          "output_type": "stream",
          "name": "stdout",
          "text": [
            "--2022-05-12 20:29:21--  http://nlp.stanford.edu/data/glove.6B.zip\n",
            "Resolving nlp.stanford.edu (nlp.stanford.edu)... 171.64.67.140\n",
            "Connecting to nlp.stanford.edu (nlp.stanford.edu)|171.64.67.140|:80... connected.\n",
            "HTTP request sent, awaiting response... 302 Found\n",
            "Location: https://nlp.stanford.edu/data/glove.6B.zip [following]\n",
            "--2022-05-12 20:29:21--  https://nlp.stanford.edu/data/glove.6B.zip\n",
            "Connecting to nlp.stanford.edu (nlp.stanford.edu)|171.64.67.140|:443... connected.\n",
            "HTTP request sent, awaiting response... 301 Moved Permanently\n",
            "Location: http://downloads.cs.stanford.edu/nlp/data/glove.6B.zip [following]\n",
            "--2022-05-12 20:29:22--  http://downloads.cs.stanford.edu/nlp/data/glove.6B.zip\n",
            "Resolving downloads.cs.stanford.edu (downloads.cs.stanford.edu)... 171.64.64.22\n",
            "Connecting to downloads.cs.stanford.edu (downloads.cs.stanford.edu)|171.64.64.22|:80... connected.\n",
            "HTTP request sent, awaiting response... 200 OK\n",
            "Length: 862182613 (822M) [application/zip]\n",
            "Saving to: ‘glove.6B.zip’\n",
            "\n",
            "glove.6B.zip        100%[===================>] 822.24M  5.22MB/s    in 2m 41s  \n",
            "\n",
            "2022-05-12 20:32:04 (5.09 MB/s) - ‘glove.6B.zip’ saved [862182613/862182613]\n",
            "\n"
          ]
        }
      ]
    },
    {
      "cell_type": "code",
      "source": [
        "path_to_glove_file = os.path.join(\n",
        "    os.path.expanduser(\"~\"), \"/content/glove.6B.100d.txt\"\n",
        ")\n",
        "\n",
        "embeddings_index = {}\n",
        "with open(path_to_glove_file) as f:\n",
        "    for line in f:\n",
        "        word, coefs = line.split(maxsplit=1)\n",
        "        coefs = np.fromstring(coefs, \"f\", sep=\" \")\n",
        "        embeddings_index[word] = coefs\n",
        "\n",
        "print(\"Found %s word vectors.\" % len(embeddings_index))"
      ],
      "metadata": {
        "colab": {
          "base_uri": "https://localhost:8080/"
        },
        "id": "_XB1ttlq9b3n",
        "outputId": "316e91f6-6c20-42df-a46d-1078af9b6832"
      },
      "execution_count": null,
      "outputs": [
        {
          "output_type": "stream",
          "name": "stdout",
          "text": [
            "Found 400000 word vectors.\n"
          ]
        }
      ]
    },
    {
      "cell_type": "code",
      "source": [
        "num_tokens = len(voc) + 2\n",
        "embedding_dim = 100\n",
        "hits = 0\n",
        "misses = 0\n",
        "\n",
        "# Prepare embedding matrix\n",
        "embedding_matrix = np.zeros((num_tokens, embedding_dim))\n",
        "for word, i in word_index.items():\n",
        "    embedding_vector = embeddings_index.get(word)\n",
        "    if embedding_vector is not None:\n",
        "        # Words not found in embedding index will be all-zeros.\n",
        "        # This includes the representation for \"padding\" and \"OOV\"\n",
        "        embedding_matrix[i] = embedding_vector\n",
        "        hits += 1\n",
        "    else:\n",
        "        misses += 1\n",
        "print(\"Converted %d words (%d misses)\" % (hits, misses))"
      ],
      "metadata": {
        "colab": {
          "base_uri": "https://localhost:8080/"
        },
        "id": "d2pm1pXG9wML",
        "outputId": "5fd75122-9e60-4d39-f400-dc13999d0933"
      },
      "execution_count": null,
      "outputs": [
        {
          "output_type": "stream",
          "name": "stdout",
          "text": [
            "Converted 820 words (69 misses)\n"
          ]
        }
      ]
    },
    {
      "cell_type": "code",
      "source": [
        "embedding_layer = Embedding(\n",
        "    num_tokens,\n",
        "    embedding_dim,\n",
        "    embeddings_initializer=keras.initializers.Constant(embedding_matrix),\n",
        "    trainable=False,\n",
        ")"
      ],
      "metadata": {
        "id": "v45Zu3mi-S6g"
      },
      "execution_count": null,
      "outputs": []
    },
    {
      "cell_type": "code",
      "source": [
        "int_sequences_input = keras.Input(shape=(None,), dtype=\"int64\")\n",
        "embedded_sequences = embedding_layer(int_sequences_input)\n",
        "print(int_sequences_input)"
      ],
      "metadata": {
        "colab": {
          "base_uri": "https://localhost:8080/"
        },
        "id": "o3dpuJ0NFUJW",
        "outputId": "82c48417-5a72-4658-cfaf-2d02d7445156"
      },
      "execution_count": null,
      "outputs": [
        {
          "output_type": "stream",
          "name": "stdout",
          "text": [
            "KerasTensor(type_spec=TensorSpec(shape=(None, None), dtype=tf.int64, name='input_8'), name='input_8', description=\"created by layer 'input_8'\")\n"
          ]
        }
      ]
    },
    {
      "cell_type": "markdown",
      "source": [
        "Model"
      ],
      "metadata": {
        "id": "m0FtNlV8Av0Q"
      }
    },
    {
      "cell_type": "code",
      "source": [
        "int_sequences_input = keras.Input(shape=(None,), dtype=\"int64\")\n",
        "embedded_sequences = embedding_layer(int_sequences_input)\n",
        "\n",
        "x = layers.Conv1D(128, 5, activation=\"relu\")(embedded_sequences)\n",
        "x = layers.MaxPooling1D(5)(x)\n",
        "x = layers.Conv1D(128, 5, activation=\"relu\")(x)\n",
        "x = layers.MaxPooling1D(5)(x)\n",
        "x = layers.Conv1D(128, 5, activation=\"relu\")(x)\n",
        "x = layers.GlobalMaxPooling1D()(x)\n",
        "x = layers.Dense(128, activation=\"relu\")(x)\n",
        "x = layers.Dropout(0.5)(x)\n",
        "preds = layers.Dense(len(class_names), activation=\"softmax\")(x)\n",
        "model = keras.Model(int_sequences_input, preds)\n",
        "model.summary()"
      ],
      "metadata": {
        "colab": {
          "base_uri": "https://localhost:8080/"
        },
        "id": "rEPbxNU_AVjF",
        "outputId": "fa70952e-22c5-40e4-f705-f04a00c36765"
      },
      "execution_count": null,
      "outputs": [
        {
          "output_type": "stream",
          "name": "stdout",
          "text": [
            "Model: \"model_3\"\n",
            "_________________________________________________________________\n",
            " Layer (type)                Output Shape              Param #   \n",
            "=================================================================\n",
            " input_9 (InputLayer)        [(None, None)]            0         \n",
            "                                                                 \n",
            " embedding_4 (Embedding)     (None, None, 100)         89100     \n",
            "                                                                 \n",
            " conv1d_9 (Conv1D)           (None, None, 128)         64128     \n",
            "                                                                 \n",
            " max_pooling1d_6 (MaxPooling  (None, None, 128)        0         \n",
            " 1D)                                                             \n",
            "                                                                 \n",
            " conv1d_10 (Conv1D)          (None, None, 128)         82048     \n",
            "                                                                 \n",
            " max_pooling1d_7 (MaxPooling  (None, None, 128)        0         \n",
            " 1D)                                                             \n",
            "                                                                 \n",
            " conv1d_11 (Conv1D)          (None, None, 128)         82048     \n",
            "                                                                 \n",
            " global_max_pooling1d_3 (Glo  (None, 128)              0         \n",
            " balMaxPooling1D)                                                \n",
            "                                                                 \n",
            " dense_6 (Dense)             (None, 128)               16512     \n",
            "                                                                 \n",
            " dropout_3 (Dropout)         (None, 128)               0         \n",
            "                                                                 \n",
            " dense_7 (Dense)             (None, 13)                1677      \n",
            "                                                                 \n",
            "=================================================================\n",
            "Total params: 335,513\n",
            "Trainable params: 246,413\n",
            "Non-trainable params: 89,100\n",
            "_________________________________________________________________\n"
          ]
        }
      ]
    },
    {
      "cell_type": "markdown",
      "source": [
        "Training"
      ],
      "metadata": {
        "id": "C7HjMKXOAyBr"
      }
    },
    {
      "cell_type": "code",
      "source": [
        "x_train = vectorizer(np.array([[s] for s in train_samples])).numpy()\n",
        "x_test = vectorizer(np.array([[s] for s in test_samples])).numpy()\n",
        "\n",
        "y_train = np.array(train_labels)\n",
        "y_test = np.array(test_labels)"
      ],
      "metadata": {
        "id": "j43zxR4_AzS8"
      },
      "execution_count": null,
      "outputs": []
    },
    {
      "cell_type": "code",
      "source": [
        "x_test"
      ],
      "metadata": {
        "colab": {
          "base_uri": "https://localhost:8080/"
        },
        "id": "Wwq9ytldMlbm",
        "outputId": "323cc9c8-e010-4069-e1a2-bceb8f8d798c"
      },
      "execution_count": null,
      "outputs": [
        {
          "output_type": "execute_result",
          "data": {
            "text/plain": [
              "array([[  2,   0,   0, ...,   0,   0,   0],\n",
              "       [ 26,   0,   0, ...,   0,   0,   0],\n",
              "       [  3,   0,   0, ...,   0,   0,   0],\n",
              "       ...,\n",
              "       [  1,  32,   0, ...,   0,   0,   0],\n",
              "       [ 87,   9, 156, ...,   0,   0,   0],\n",
              "       [ 88, 168,   0, ...,   0,   0,   0]])"
            ]
          },
          "metadata": {},
          "execution_count": 203
        }
      ]
    },
    {
      "cell_type": "code",
      "source": [
        "model.compile(\n",
        "    loss=\"categorical_crossentropy\", optimizer=\"rmsprop\", metrics=[\"acc\"]\n",
        ")\n",
        "model.fit(x_train, y_train, batch_size=128, epochs=20, validation_data=(x_test, y_test))"
      ],
      "metadata": {
        "colab": {
          "base_uri": "https://localhost:8080/"
        },
        "id": "PECmV6ksA7PS",
        "outputId": "77fe48f0-38f6-4747-c9a3-dc16e7351483"
      },
      "execution_count": null,
      "outputs": [
        {
          "output_type": "stream",
          "name": "stdout",
          "text": [
            "Epoch 1/20\n",
            "18/18 [==============================] - 6s 191ms/step - loss: 0.2143 - acc: 0.9414 - val_loss: 0.5921 - val_acc: 0.8961\n",
            "Epoch 2/20\n",
            "18/18 [==============================] - 3s 173ms/step - loss: 0.1904 - acc: 0.9520 - val_loss: 0.5971 - val_acc: 0.8926\n",
            "Epoch 3/20\n",
            "18/18 [==============================] - 3s 173ms/step - loss: 0.1843 - acc: 0.9511 - val_loss: 0.6145 - val_acc: 0.8891\n",
            "Epoch 4/20\n",
            "18/18 [==============================] - 3s 173ms/step - loss: 0.1808 - acc: 0.9507 - val_loss: 0.5671 - val_acc: 0.8926\n",
            "Epoch 5/20\n",
            "18/18 [==============================] - 4s 201ms/step - loss: 0.1742 - acc: 0.9542 - val_loss: 0.5713 - val_acc: 0.8926\n",
            "Epoch 6/20\n",
            "18/18 [==============================] - 4s 198ms/step - loss: 0.1658 - acc: 0.9538 - val_loss: 0.6078 - val_acc: 0.8944\n",
            "Epoch 7/20\n",
            "18/18 [==============================] - 3s 174ms/step - loss: 0.1780 - acc: 0.9507 - val_loss: 0.6850 - val_acc: 0.8944\n",
            "Epoch 8/20\n",
            "18/18 [==============================] - 3s 174ms/step - loss: 0.1751 - acc: 0.9546 - val_loss: 0.6625 - val_acc: 0.8908\n",
            "Epoch 9/20\n",
            "18/18 [==============================] - 3s 172ms/step - loss: 0.1742 - acc: 0.9551 - val_loss: 0.5520 - val_acc: 0.8908\n",
            "Epoch 10/20\n",
            "18/18 [==============================] - 3s 172ms/step - loss: 0.1675 - acc: 0.9524 - val_loss: 0.6706 - val_acc: 0.8908\n",
            "Epoch 11/20\n",
            "18/18 [==============================] - 3s 172ms/step - loss: 0.1628 - acc: 0.9582 - val_loss: 0.6668 - val_acc: 0.8944\n",
            "Epoch 12/20\n",
            "18/18 [==============================] - 3s 173ms/step - loss: 0.1527 - acc: 0.9573 - val_loss: 0.5987 - val_acc: 0.8926\n",
            "Epoch 13/20\n",
            "18/18 [==============================] - 3s 173ms/step - loss: 0.1563 - acc: 0.9546 - val_loss: 0.6279 - val_acc: 0.8891\n",
            "Epoch 14/20\n",
            "18/18 [==============================] - 3s 174ms/step - loss: 0.1556 - acc: 0.9586 - val_loss: 0.7080 - val_acc: 0.8908\n",
            "Epoch 15/20\n",
            "18/18 [==============================] - 3s 173ms/step - loss: 0.1714 - acc: 0.9546 - val_loss: 0.6013 - val_acc: 0.8908\n",
            "Epoch 16/20\n",
            "18/18 [==============================] - 3s 171ms/step - loss: 0.1555 - acc: 0.9582 - val_loss: 0.6968 - val_acc: 0.8873\n",
            "Epoch 17/20\n",
            "18/18 [==============================] - 3s 172ms/step - loss: 0.1521 - acc: 0.9555 - val_loss: 0.6378 - val_acc: 0.8750\n",
            "Epoch 18/20\n",
            "18/18 [==============================] - 3s 173ms/step - loss: 0.1504 - acc: 0.9568 - val_loss: 0.6088 - val_acc: 0.8873\n",
            "Epoch 19/20\n",
            "18/18 [==============================] - 3s 173ms/step - loss: 0.1518 - acc: 0.9586 - val_loss: 0.6904 - val_acc: 0.8926\n",
            "Epoch 20/20\n",
            "18/18 [==============================] - 3s 173ms/step - loss: 0.1489 - acc: 0.9560 - val_loss: 0.6141 - val_acc: 0.8908\n"
          ]
        },
        {
          "output_type": "execute_result",
          "data": {
            "text/plain": [
              "<keras.callbacks.History at 0x7fd7b0fed490>"
            ]
          },
          "metadata": {},
          "execution_count": 184
        }
      ]
    },
    {
      "cell_type": "markdown",
      "source": [
        "Evaluation"
      ],
      "metadata": {
        "id": "_JbrC22D3qLv"
      }
    },
    {
      "cell_type": "code",
      "source": [
        "score = model.evaluate(x_test, y_test, verbose=0)\n",
        "print('Test loss:', score[0])\n",
        "print('Test accuracy:', score[1])"
      ],
      "metadata": {
        "colab": {
          "base_uri": "https://localhost:8080/"
        },
        "id": "xFrn0td1I0bc",
        "outputId": "96c9b898-182b-475d-b77f-b85ef2914850"
      },
      "execution_count": null,
      "outputs": [
        {
          "output_type": "stream",
          "name": "stdout",
          "text": [
            "Test loss: 0.6140957474708557\n",
            "Test accuracy: 0.8908450603485107\n"
          ]
        }
      ]
    },
    {
      "cell_type": "code",
      "source": [
        "pred = model.predict(x_test) \n",
        "pred = np.argmax(pred, axis = 1)[:5] \n",
        "label = np.argmax(y_test,axis = 1)[:5] \n",
        "\n",
        "print(pred) \n",
        "print(label)"
      ],
      "metadata": {
        "colab": {
          "base_uri": "https://localhost:8080/"
        },
        "id": "kHuo4EHOKVmP",
        "outputId": "437dcc2c-1066-4861-b14b-07d6e590a3b1"
      },
      "execution_count": null,
      "outputs": [
        {
          "output_type": "stream",
          "name": "stdout",
          "text": [
            "[7 4 9 4 4]\n",
            "[7 4 9 4 4]\n"
          ]
        }
      ]
    },
    {
      "cell_type": "markdown",
      "source": [
        "Display Results"
      ],
      "metadata": {
        "id": "J8H4utk13u5G"
      }
    },
    {
      "cell_type": "code",
      "source": [
        "pred = model.predict(x_test)\n",
        "pred_df = pd.DataFrame(pred, columns = ['business',\t'clothes',\t'education',\t'entertainment',\t'grocery',\t'health',\t'improvement',\t'misc',\t'rent',\t'restaurant',\t'supplies',\t'transportation',\t'utilities'])\n",
        "pred_df = pred_df.idxmax(axis=1)[:50]\n",
        "\n",
        "label_df = pd.DataFrame(y_test, columns = ['business',\t'clothes',\t'education',\t'entertainment',\t'grocery',\t'health',\t'improvement',\t'misc',\t'rent',\t'restaurant',\t'supplies',\t'transportation',\t'utilities'])\n",
        "label_df = label_df.idxmax(axis=1)[:50]\n",
        "\n",
        "test_df = test_samples.reset_index(drop=True)[:50]\n",
        "compare_df = pd.concat([test_df, pred_df, label_df], axis=1)\n",
        "compare_df.columns =['Description', 'Predicted', 'Actual']\n",
        "\n",
        "#print(pred_df)\n",
        "#print(test_df)\n",
        "print(compare_df)"
      ],
      "metadata": {
        "colab": {
          "base_uri": "https://localhost:8080/"
        },
        "id": "l4keow2cNIzH",
        "outputId": "a7f964bd-f2d7-4fe9-8a15-d7de70e35513"
      },
      "execution_count": null,
      "outputs": [
        {
          "output_type": "stream",
          "name": "stdout",
          "text": [
            "                                          Description      Predicted  \\\n",
            "0                                                 tax           misc   \n",
            "1                                               salsa        grocery   \n",
            "2                                                 Tip     restaurant   \n",
            "3                                   honey wheat bread        grocery   \n",
            "4                                           tortillas        grocery   \n",
            "5                                              Tomato        grocery   \n",
            "6                                       candle for us  entertainment   \n",
            "7                                                 tax           misc   \n",
            "8                                           cheez-its        grocery   \n",
            "9                                                 tax           misc   \n",
            "10                                                tax           misc   \n",
            "11                                     diced tomatoes        grocery   \n",
            "12                                                tip     restaurant   \n",
            "13                                            Peppers        grocery   \n",
            "14                                         mozzarella        grocery   \n",
            "15                                           cheerios        grocery   \n",
            "16                                         Foundation        grocery   \n",
            "17                                       lunch/dinner        grocery   \n",
            "18                                            alfredo        grocery   \n",
            "19                                      Sliced cheese        grocery   \n",
            "20                                         orange mix        grocery   \n",
            "21                                     rotel canned 3        grocery   \n",
            "22                                             ginger        grocery   \n",
            "23                                     marinara sauce        grocery   \n",
            "24                                                tip     restaurant   \n",
            "25                                        Almond milk        grocery   \n",
            "26                                            cheddar        grocery   \n",
            "27                                                Tip     restaurant   \n",
            "28                                                tax           misc   \n",
            "29                                       small candle  entertainment   \n",
            "30                                               Eggs        grocery   \n",
            "31                                               rose        grocery   \n",
            "32                                                tax           misc   \n",
            "33                                       cream cheese        grocery   \n",
            "34                                           Leggings        clothes   \n",
            "35                                             dinner     restaurant   \n",
            "36                                          cool whip        grocery   \n",
            "37                                           Cocktail        grocery   \n",
            "38  state inspection paid to mom for Lewis inspecting  entertainment   \n",
            "39                                        chili sauce        grocery   \n",
            "40                                        almond milk        grocery   \n",
            "41                                      Iced brownies        grocery   \n",
            "42                                                tax           misc   \n",
            "43                                             muffin     restaurant   \n",
            "44                           gift mouse ornament Lisa  entertainment   \n",
            "45                                             bagels        grocery   \n",
            "46                                               Rent           rent   \n",
            "47                                                tip     restaurant   \n",
            "48                                          tortillas        grocery   \n",
            "49                                                tax           misc   \n",
            "\n",
            "            Actual  \n",
            "0             misc  \n",
            "1          grocery  \n",
            "2       restaurant  \n",
            "3          grocery  \n",
            "4          grocery  \n",
            "5          grocery  \n",
            "6    entertainment  \n",
            "7             misc  \n",
            "8          grocery  \n",
            "9             misc  \n",
            "10            misc  \n",
            "11         grocery  \n",
            "12      restaurant  \n",
            "13         grocery  \n",
            "14         grocery  \n",
            "15         grocery  \n",
            "16         grocery  \n",
            "17      restaurant  \n",
            "18         grocery  \n",
            "19         grocery  \n",
            "20         grocery  \n",
            "21         grocery  \n",
            "22         grocery  \n",
            "23         grocery  \n",
            "24      restaurant  \n",
            "25  transportation  \n",
            "26         grocery  \n",
            "27   entertainment  \n",
            "28            misc  \n",
            "29   entertainment  \n",
            "30         grocery  \n",
            "31      restaurant  \n",
            "32            misc  \n",
            "33         grocery  \n",
            "34         clothes  \n",
            "35      restaurant  \n",
            "36         grocery  \n",
            "37   entertainment  \n",
            "38  transportation  \n",
            "39         grocery  \n",
            "40         grocery  \n",
            "41         grocery  \n",
            "42            misc  \n",
            "43      restaurant  \n",
            "44   entertainment  \n",
            "45         grocery  \n",
            "46            rent  \n",
            "47      restaurant  \n",
            "48         grocery  \n",
            "49            misc  \n"
          ]
        }
      ]
    },
    {
      "cell_type": "markdown",
      "source": [
        "Classify text input"
      ],
      "metadata": {
        "id": "apij158i32Nr"
      }
    },
    {
      "cell_type": "code",
      "source": [
        "string_input = keras.Input(shape=(1,), dtype=\"string\")\n",
        "x = vectorizer(string_input)\n",
        "preds = model(x)\n",
        "end_to_end_model = keras.Model(string_input, preds)\n",
        "\n",
        "probabilities = end_to_end_model.predict(\n",
        "    [[\"candle\"]]\n",
        ")\n",
        "\n",
        "class_names[np.argmax(probabilities[0])]"
      ],
      "metadata": {
        "colab": {
          "base_uri": "https://localhost:8080/",
          "height": 35
        },
        "id": "yVXBWaZHYYv6",
        "outputId": "cfcfe85d-7cad-427a-c398-d384e955d2ed"
      },
      "execution_count": null,
      "outputs": [
        {
          "output_type": "execute_result",
          "data": {
            "text/plain": [
              "'clothes'"
            ],
            "application/vnd.google.colaboratory.intrinsic+json": {
              "type": "string"
            }
          },
          "metadata": {},
          "execution_count": 234
        }
      ]
    },
    {
      "cell_type": "markdown",
      "source": [
        "Questions:\n",
        "Which categories had the worst accuracy? The best?"
      ],
      "metadata": {
        "id": "fYG1Kx-h33WV"
      }
    }
  ]
}