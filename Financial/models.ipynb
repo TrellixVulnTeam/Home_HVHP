{
  "nbformat": 4,
  "nbformat_minor": 0,
  "metadata": {
    "colab": {
      "name": "models.ipynb",
      "provenance": [],
      "authorship_tag": "ABX9TyOGRvmiTDl5ZMu83p0jZ99J"
    },
    "kernelspec": {
      "name": "python3",
      "display_name": "Python 3"
    },
    "language_info": {
      "name": "python"
    }
  },
  "cells": [
    {
      "cell_type": "code",
      "execution_count": null,
      "metadata": {
        "id": "6-Cs36kMG6dj"
      },
      "outputs": [],
      "source": [
        "from keras import initializers\n",
        "from keras.models import Model\n",
        "from keras.models import Sequential\n",
        "from keras.layers import Dense\n",
        "from keras.layers import Embedding\n",
        "from keras.layers import Input\n",
        "from keras.layers import Conv1D\n",
        "from keras.layers import MaxPooling1D\n",
        "from keras.layers import GlobalMaxPooling1D\n",
        "from keras.layers import Dropout\n",
        "from keras.layers import concatenate"
      ]
    },
    {
      "cell_type": "code",
      "source": [
        "def create_mlp(dim, class_names):\n",
        "\t# define our MLP network\n",
        "  model = Sequential()\n",
        "  # hidden layer with 40 nodes, input = 5\n",
        "  model.add(Dense(40, input_dim=dim, activation=\"relu\"))\n",
        "  # output layer with 15 nodes\n",
        "  model.add(Dense(len(class_names), activation=\"softmax\"))\n",
        "  # return our model\n",
        "  return model"
      ],
      "metadata": {
        "id": "FnviwXW3gxds"
      },
      "execution_count": null,
      "outputs": []
    },
    {
      "cell_type": "code",
      "source": [
        "def create_mlp_multi(dim):\n",
        "\t# define our MLP network\n",
        "  model = Sequential()\n",
        "  # hidden layer with 40 nodes, input = 5\n",
        "  model.add(Dense(40, input_dim=dim, activation=\"relu\"))\n",
        "  # return our model\n",
        "  return model"
      ],
      "metadata": {
        "id": "LvAO3lUZJmci"
      },
      "execution_count": null,
      "outputs": []
    },
    {
      "cell_type": "code",
      "source": [
        "def create_cnn(num_tokens, embedding_dim, embedding_matrix, class_names, filter):\n",
        "  # define the model input\n",
        "  int_sequences_input = Input(shape=(None,), dtype=\"int64\")\n",
        "  # embedding layer\n",
        "  embedding_layer = Embedding(\n",
        "    num_tokens,\n",
        "    embedding_dim,\n",
        "    embeddings_initializer=initializers.Constant(embedding_matrix),\n",
        "    trainable=False,\n",
        "  )\n",
        "  embedded_sequences = embedding_layer(int_sequences_input)\n",
        "  # CONV => RELU => MP => CONV => RELU => MP => CONV => RELU => GMP\n",
        "  x = Conv1D(filter, 5, activation=\"relu\")(embedded_sequences)\n",
        "  x = MaxPooling1D(5)(x)\n",
        "  x = Conv1D(filter, 5, activation=\"relu\")(x)\n",
        "  x = MaxPooling1D(5)(x)\n",
        "  x = Conv1D(filter, 5, activation=\"relu\")(x)\n",
        "  x = GlobalMaxPooling1D()(x)\n",
        "  # FC => RELU => DROPOUT\n",
        "  x = Dense(filter, activation=\"relu\")(x)\n",
        "  x = Dropout(0.5)(x)\n",
        "  # FC => SOFTMAX\n",
        "  preds = Dense(len(class_names), activation=\"softmax\")(x)\n",
        "  # construct the CNN\n",
        "  model = Model(int_sequences_input, preds)\n",
        "  # return the CNN\n",
        "  return model"
      ],
      "metadata": {
        "id": "BMf_ift0eN4g"
      },
      "execution_count": null,
      "outputs": []
    },
    {
      "cell_type": "code",
      "source": [
        "def create_cnn_multi(num_tokens, embedding_dim, embedding_matrix, class_names, filter):\n",
        "  # define the model input\n",
        "  int_sequences_input = Input(shape=(None,), dtype=\"int64\")\n",
        "  # embedding layer\n",
        "  embedding_layer = Embedding(\n",
        "    num_tokens,\n",
        "    embedding_dim,\n",
        "    embeddings_initializer=initializers.Constant(embedding_matrix),\n",
        "    trainable=False,\n",
        "  )\n",
        "  embedded_sequences = embedding_layer(int_sequences_input)\n",
        "  # CONV => RELU => MP => CONV => RELU => MP => CONV => RELU => GMP\n",
        "  x = Conv1D(filter, 5, activation=\"relu\")(embedded_sequences)\n",
        "  x = MaxPooling1D(5)(x)\n",
        "  x = Conv1D(filter, 5, activation=\"relu\")(x)\n",
        "  x = MaxPooling1D(5)(x)\n",
        "  x = Conv1D(filter, 5, activation=\"relu\")(x)\n",
        "  x = GlobalMaxPooling1D()(x)\n",
        "  # FC => RELU => DROPOUT\n",
        "  x = Dense(filter, activation=\"relu\")(x)\n",
        "  x = Dropout(0.5)(x)\n",
        "  # construct the CNN\n",
        "  model = Model(int_sequences_input, x)\n",
        "  # return the CNN\n",
        "  return model"
      ],
      "metadata": {
        "id": "YCZfJJjBJsgo"
      },
      "execution_count": null,
      "outputs": []
    },
    {
      "cell_type": "code",
      "source": [
        "def create_multi(mlp, cnn, class_names):\n",
        "  # create the input to our final set of layers as the *output* of both\n",
        "  # the MLP and CNN\n",
        "  combinedInput = concatenate([mlp.output, cnn.output])\n",
        "  # FC => SOFTMAX\n",
        "  preds = Dense(len(class_names), activation=\"softmax\")(combinedInput)\n",
        "  # our final model will accept categorical/numerical data on the MLP\n",
        "  # input and descriptions on the CNN input, outputting a single value (the\n",
        "  # predicted category of the purchase)\n",
        "  model = Model(inputs=[mlp.input, cnn.input], outputs=preds)\n",
        "  return model"
      ],
      "metadata": {
        "id": "Z0j0xAkAcgl2"
      },
      "execution_count": null,
      "outputs": []
    }
  ]
}